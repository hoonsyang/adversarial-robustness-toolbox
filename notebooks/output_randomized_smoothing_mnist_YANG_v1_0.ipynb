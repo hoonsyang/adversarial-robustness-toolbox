{
  "nbformat": 4,
  "nbformat_minor": 0,
  "metadata": {
    "kernelspec": {
      "name": "python3",
      "display_name": "Python 3",
      "language": "python"
    },
    "language_info": {
      "name": "python",
      "version": "3.6.10",
      "mimetype": "text/x-python",
      "codemirror_mode": {
        "name": "ipython",
        "version": 3
      },
      "pygments_lexer": "ipython3",
      "nbconvert_exporter": "python",
      "file_extension": ".py"
    },
    "colab": {
      "name": "output_randomized_smoothing_mnist_YANG_v1.0.ipynb",
      "provenance": [],
      "collapsed_sections": [],
      "include_colab_link": true
    }
  },
  "cells": [
    {
      "cell_type": "markdown",
      "metadata": {
        "id": "view-in-github",
        "colab_type": "text"
      },
      "source": [
        "<a href=\"https://colab.research.google.com/github/hoonsyang/adversarial-robustness-toolbox/blob/master/notebooks/output_randomized_smoothing_mnist_YANG_v1_0.ipynb\" target=\"_parent\"><img src=\"https://colab.research.google.com/assets/colab-badge.svg\" alt=\"Open In Colab\"/></a>"
      ]
    },
    {
      "cell_type": "markdown",
      "metadata": {
        "id": "Tqo_WkQSxrXh",
        "colab_type": "text"
      },
      "source": [
        "## ART Randomized Smooting"
      ]
    },
    {
      "cell_type": "code",
      "metadata": {
        "id": "4eYd404GyWBU",
        "colab_type": "code",
        "colab": {
          "base_uri": "https://localhost:8080/",
          "height": 35
        },
        "outputId": "ed382369-4e9f-455d-c444-59d01b3d771e"
      },
      "source": [
        "import os\n",
        "os.chdir('/content/drive/My Drive/Adversarial/adversarial-robustness-toolbox')\n",
        "!pwd"
      ],
      "execution_count": 4,
      "outputs": [
        {
          "output_type": "stream",
          "text": [
            "/content/drive/My Drive/Adversarial/adversarial-robustness-toolbox\n"
          ],
          "name": "stdout"
        }
      ]
    },
    {
      "cell_type": "code",
      "metadata": {
        "id": "AIzFCYYrxoUb",
        "colab_type": "code",
        "colab": {}
      },
      "source": [
        "import keras.backend as k\n",
        "from keras.models import load_model\n",
        "from keras.models import Sequential\n",
        "from keras.layers import Dense, Flatten, Conv2D, MaxPooling2D, Dropout\n",
        "\n",
        "from art.config import ART_DATA_PATH\n",
        "from art.defences import GaussianAugmentation\n",
        "from art.classifiers import KerasClassifier\n",
        "from art.utils import load_dataset, get_file, compute_accuracy\n",
        "from art.wrappers import RandomizedSmoothing\n",
        "\n",
        "import numpy as np\n",
        "%matplotlib inline\n",
        "import matplotlib.pyplot as plt"
      ],
      "execution_count": 0,
      "outputs": []
    },
    {
      "cell_type": "code",
      "metadata": {
        "id": "-KYH38tK16-N",
        "colab_type": "code",
        "colab": {}
      },
      "source": [
        ""
      ],
      "execution_count": 0,
      "outputs": []
    },
    {
      "cell_type": "markdown",
      "metadata": {
        "id": "Utcu008w190n",
        "colab_type": "text"
      },
      "source": [
        "### Load data"
      ]
    },
    {
      "cell_type": "code",
      "metadata": {
        "id": "VBCPvqxz1-z6",
        "colab_type": "code",
        "colab": {}
      },
      "source": [
        "(x_train, y_train), (x_test, y_test), min_, max_ = load_dataset(str('mnist'))\n",
        "\n",
        "num_samples_test = 250\n",
        "x_test = x_test[0:num_samples_test]\n",
        "y_test = y_test[0:num_samples_test]"
      ],
      "execution_count": 0,
      "outputs": []
    },
    {
      "cell_type": "markdown",
      "metadata": {
        "id": "ywdU7GdM2Q04",
        "colab_type": "text"
      },
      "source": [
        "### Train classifiers"
      ]
    },
    {
      "cell_type": "code",
      "metadata": {
        "id": "14FtvoqR2Uww",
        "colab_type": "code",
        "colab": {}
      },
      "source": [
        "def cnn_mnist(input_shape, min_val, max_val):\n",
        "    model = Sequential()\n",
        "\n",
        "    model.add(Conv2D(32, kernel_size=(3,3), activation='relu', input_shape=input_shape))\n",
        "    model.add(MaxPooling2D(pool_size=(2,2)))\n",
        "    model.add(Conv2D(64, kernel_size=(3,3), activation='relu'))\n",
        "    model.add(MaxPooling2D(pool_size=(2,2)))\n",
        "    model.add(Dropout(0.25))\n",
        "    model.add(Flatten())\n",
        "    model.add(Dense(128, activation='relu'))\n",
        "    model.add(Dense(10, activation='softmax'))\n",
        "    \n",
        "    model.compile(loss='categorical_crossentropy', optimizer='adam', metrics=['accuracy'])\n",
        "\n",
        "    classifier = KerasClassifier(clip_values=(min_val,max_val), model=model, use_logits=False)\n",
        "    \n",
        "    return classifier"
      ],
      "execution_count": 0,
      "outputs": []
    },
    {
      "cell_type": "code",
      "metadata": {
        "id": "XWxhV1hM3Xar",
        "colab_type": "code",
        "colab": {
          "base_uri": "https://localhost:8080/",
          "height": 575
        },
        "outputId": "1fde43d7-e9fa-41b3-8a00-92576f563dcc"
      },
      "source": [
        "num_epochs = 3\n",
        "\n",
        "path = get_file('mnist_cnn_original.h5', extract=False, path=ART_DATA_PATH, url='https://www.dropbox.com/s/p2nyzne9chcerid/mnist_cnn_original.h5?dl=1')\n",
        "\n",
        "classifier_model = load_model(path)\n",
        "classifier = KerasClassifier(clip_values=(min_, max_), model=classifier_model, use_logits=False)"
      ],
      "execution_count": 10,
      "outputs": [
        {
          "output_type": "stream",
          "text": [
            "WARNING:tensorflow:From /usr/local/lib/python3.6/dist-packages/keras/backend/tensorflow_backend.py:66: The name tf.get_default_graph is deprecated. Please use tf.compat.v1.get_default_graph instead.\n",
            "\n",
            "WARNING:tensorflow:From /usr/local/lib/python3.6/dist-packages/keras/backend/tensorflow_backend.py:541: The name tf.placeholder is deprecated. Please use tf.compat.v1.placeholder instead.\n",
            "\n",
            "WARNING:tensorflow:From /usr/local/lib/python3.6/dist-packages/keras/backend/tensorflow_backend.py:4432: The name tf.random_uniform is deprecated. Please use tf.random.uniform instead.\n",
            "\n",
            "WARNING:tensorflow:From /usr/local/lib/python3.6/dist-packages/keras/backend/tensorflow_backend.py:4267: The name tf.nn.max_pool is deprecated. Please use tf.nn.max_pool2d instead.\n",
            "\n",
            "WARNING:tensorflow:From /usr/local/lib/python3.6/dist-packages/keras/backend/tensorflow_backend.py:190: The name tf.get_default_session is deprecated. Please use tf.compat.v1.get_default_session instead.\n",
            "\n",
            "WARNING:tensorflow:From /usr/local/lib/python3.6/dist-packages/keras/backend/tensorflow_backend.py:197: The name tf.ConfigProto is deprecated. Please use tf.compat.v1.ConfigProto instead.\n",
            "\n",
            "WARNING:tensorflow:From /usr/local/lib/python3.6/dist-packages/keras/backend/tensorflow_backend.py:203: The name tf.Session is deprecated. Please use tf.compat.v1.Session instead.\n",
            "\n",
            "WARNING:tensorflow:From /usr/local/lib/python3.6/dist-packages/keras/backend/tensorflow_backend.py:207: The name tf.global_variables is deprecated. Please use tf.compat.v1.global_variables instead.\n",
            "\n",
            "WARNING:tensorflow:From /usr/local/lib/python3.6/dist-packages/keras/backend/tensorflow_backend.py:216: The name tf.is_variable_initialized is deprecated. Please use tf.compat.v1.is_variable_initialized instead.\n",
            "\n",
            "WARNING:tensorflow:From /usr/local/lib/python3.6/dist-packages/keras/backend/tensorflow_backend.py:223: The name tf.variables_initializer is deprecated. Please use tf.compat.v1.variables_initializer instead.\n",
            "\n",
            "WARNING:tensorflow:From /usr/local/lib/python3.6/dist-packages/keras/optimizers.py:793: The name tf.train.Optimizer is deprecated. Please use tf.compat.v1.train.Optimizer instead.\n",
            "\n",
            "WARNING:tensorflow:From /usr/local/lib/python3.6/dist-packages/keras/backend/tensorflow_backend.py:3576: The name tf.log is deprecated. Please use tf.math.log instead.\n",
            "\n",
            "WARNING:tensorflow:From /usr/local/lib/python3.6/dist-packages/tensorflow_core/python/ops/math_grad.py:1424: where (from tensorflow.python.ops.array_ops) is deprecated and will be removed in a future version.\n",
            "Instructions for updating:\n",
            "Use tf.where in 2.0, which has the same broadcast rule as np.where\n",
            "WARNING:tensorflow:From /usr/local/lib/python3.6/dist-packages/keras/backend/tensorflow_backend.py:1033: The name tf.assign_add is deprecated. Please use tf.compat.v1.assign_add instead.\n",
            "\n",
            "WARNING:tensorflow:From /usr/local/lib/python3.6/dist-packages/keras/backend/tensorflow_backend.py:1020: The name tf.assign is deprecated. Please use tf.compat.v1.assign instead.\n",
            "\n"
          ],
          "name": "stdout"
        }
      ]
    },
    {
      "cell_type": "code",
      "metadata": {
        "id": "ko8Wt1ie6Jpj",
        "colab_type": "code",
        "colab": {
          "base_uri": "https://localhost:8080/",
          "height": 343
        },
        "outputId": "71f62afa-fab5-44a7-e5ce-920e5d5be156"
      },
      "source": [
        "sigma1 = 0.25\n",
        "sigma2 = 0.5\n",
        "\n",
        "ga = GaussianAugmentation(sigma=sigma1, augmentation=False)\n",
        "x_new1, _ = ga(x_train)\n",
        "classifier_ga1 = cnn_mnist(x_train.shape[1:], min_, max_)\n",
        "classifier_ga1.fit(x_new1, y_train, nb_epochs=num_epochs, batch_size=128)\n",
        "\n",
        "ga = GaussianAugmentation(sigma=sigma2, augmentation=False)\n",
        "x_new2, _ = ga(x_train)\n",
        "classifier_ga2 = cnn_mnist(x_train.shape[1:], min_, max_)\n",
        "classifier_ga2.fit(x_new2, y_train, nb_epochs=num_epochs, batch_size=128)"
      ],
      "execution_count": 11,
      "outputs": [
        {
          "output_type": "stream",
          "text": [
            "WARNING:tensorflow:From /usr/local/lib/python3.6/dist-packages/keras/backend/tensorflow_backend.py:148: The name tf.placeholder_with_default is deprecated. Please use tf.compat.v1.placeholder_with_default instead.\n",
            "\n",
            "WARNING:tensorflow:From /usr/local/lib/python3.6/dist-packages/keras/backend/tensorflow_backend.py:3733: calling dropout (from tensorflow.python.ops.nn_ops) with keep_prob is deprecated and will be removed in a future version.\n",
            "Instructions for updating:\n",
            "Please use `rate` instead of `keep_prob`. Rate should be set to `rate = 1 - keep_prob`.\n",
            "Epoch 1/3\n",
            "468/468 [==============================] - 46s 99ms/step - loss: 0.3010 - acc: 0.9081\n",
            "Epoch 2/3\n",
            "468/468 [==============================] - 45s 97ms/step - loss: 0.0804 - acc: 0.9749\n",
            "Epoch 3/3\n",
            "468/468 [==============================] - 45s 97ms/step - loss: 0.0598 - acc: 0.9810\n",
            "Epoch 1/3\n",
            "468/468 [==============================] - 46s 97ms/step - loss: 0.3951 - acc: 0.8759\n",
            "Epoch 2/3\n",
            "468/468 [==============================] - 45s 96ms/step - loss: 0.1562 - acc: 0.9506\n",
            "Epoch 3/3\n",
            "468/468 [==============================] - 45s 97ms/step - loss: 0.1190 - acc: 0.9620\n"
          ],
          "name": "stdout"
        }
      ]
    },
    {
      "cell_type": "code",
      "metadata": {
        "id": "ORWI3_mj64Fj",
        "colab_type": "code",
        "colab": {}
      },
      "source": [
        "classifier_rs = RandomizedSmoothing(classifier, sample_size=100, scale=0.25, alpha=0.001)\n",
        "classifier_rs1 = RandomizedSmoothing(classifier_ga1, sample_size=100, scale=sigma1, alpha=0.001)\n",
        "classifier_rs2 = RandomizedSmoothing(classifier_ga2, sample_size=100, scale=sigma2, alpha=0.001)"
      ],
      "execution_count": 0,
      "outputs": []
    },
    {
      "cell_type": "code",
      "metadata": {
        "id": "Ol7l-cLw7N9H",
        "colab_type": "code",
        "colab": {}
      },
      "source": [
        ""
      ],
      "execution_count": 0,
      "outputs": []
    },
    {
      "cell_type": "markdown",
      "metadata": {
        "id": "GzjocQDD7OQc",
        "colab_type": "text"
      },
      "source": [
        "### Prediction"
      ]
    },
    {
      "cell_type": "code",
      "metadata": {
        "id": "ll8K6CfL7Qqc",
        "colab_type": "code",
        "colab": {
          "base_uri": "https://localhost:8080/",
          "height": 233
        },
        "outputId": "fcc970ae-f7dc-489e-9fdb-1b2e8abbfe48"
      },
      "source": [
        "x_preds = classifier.predict(x_test)\n",
        "x_preds_rs1 = classifier_rs1.predict(x_test)\n",
        "x_preds_rs2 = classifier_rs2.predict(x_test)\n",
        "acc, cov = compute_accuracy(x_preds, y_test)\n",
        "acc_rs1, cov_rs1 = compute_accuracy(x_preds_rs1, y_test)\n",
        "acc_rs2, cov_rs2 = compute_accuracy(x_preds_rs2, y_test)\n",
        "\n",
        "print(\"Original test data (first 250 images):\")\n",
        "print(\"Original Classifier\")\n",
        "print(\"Accuracy: {}\".format(acc))\n",
        "print(\"Coverage: {}\".format(cov))\n",
        "\n",
        "print(\"Smoothed Classifier, sigma=\" + str(sigma1))\n",
        "print(\"Accuracy: {}\".format(acc_rs1))\n",
        "print(\"Coverage: {}\".format(cov_rs1))\n",
        "\n",
        "print(\"Smoothed Classifier, sigma=\" + str(sigma2))\n",
        "print(\"Accuracy: {}\".format(acc_rs2))\n",
        "print(\"Coverage: {}\".format(cov_rs2))"
      ],
      "execution_count": 16,
      "outputs": [
        {
          "output_type": "stream",
          "text": [
            "2 prediction(s) abstained.\n",
            "5 prediction(s) abstained.\n",
            "Original test data (first 250 images):\n",
            "Original Classifier\n",
            "Accuracy: 0.996\n",
            "Coverage: 1.0\n",
            "Smoothed Classifier, sigma=0.25\n",
            "Accuracy: 1.0\n",
            "Coverage: 0.992\n",
            "Smoothed Classifier, sigma=0.5\n",
            "Accuracy: 0.9918367346938776\n",
            "Coverage: 0.98\n"
          ],
          "name": "stdout"
        }
      ]
    },
    {
      "cell_type": "markdown",
      "metadata": {
        "id": "vvE45V0Q8Cmf",
        "colab_type": "text"
      },
      "source": [
        "### Certification accuracy and radius "
      ]
    },
    {
      "cell_type": "code",
      "metadata": {
        "id": "h2pLuyd_8Zv6",
        "colab_type": "code",
        "colab": {}
      },
      "source": [
        "def getCertAcc(radius, pred, y_test):\n",
        "    rad_list = np.linspace(0, 2.25, 201)\n",
        "    cert_acc = []\n",
        "    num_cert = len(np.where(radius > 0)[0])\n",
        "    for r in rad_list:\n",
        "        rad_idx = np.where(radius > r)[0]\n",
        "        y_test_subset = y_test[rad_idx]\n",
        "        cert_acc.append(np.sum(pred[rad_idx] == np.argmax(y_test_subset, axis=1))/num_cert)\n",
        "    return cert_acc"
      ],
      "execution_count": 0,
      "outputs": []
    },
    {
      "cell_type": "code",
      "metadata": {
        "id": "-hf1wGWn9J-k",
        "colab_type": "code",
        "colab": {}
      },
      "source": [
        "pred0, radius0 = classifier_rs.certify(x_test, n=500)\n",
        "pred1, radius1 = classifier_rs1.certify(x_test, n=500)\n",
        "pred2, radius2 = classifier_rs2.certify(x_test, n=500)"
      ],
      "execution_count": 0,
      "outputs": []
    },
    {
      "cell_type": "code",
      "metadata": {
        "id": "wsINrbhe9T4M",
        "colab_type": "code",
        "colab": {
          "base_uri": "https://localhost:8080/",
          "height": 279
        },
        "outputId": "6d87ba94-b093-44b3-d8e3-8008cc108263"
      },
      "source": [
        "rad_list = np.linspace(0, 2.25, 201)\n",
        "\n",
        "plt.plot(rad_list, getCertAcc(radius0, pred0, y_test), 'r-', label='original')\n",
        "plt.plot(rad_list, getCertAcc(radius1, pred1, y_test), '-', color='cornflowerblue', label='smoothed, $\\sigma=$' + str(sigma1))\n",
        "plt.plot(rad_list, getCertAcc(radius2, pred2, y_test), '-', color='royalblue', label='smoothed, $\\sigma=$' + str(sigma1))\n",
        "\n",
        "plt.xlabel('radius')\n",
        "plt.ylabel('certified accuracy')\n",
        "plt.legend()\n",
        "plt.show()"
      ],
      "execution_count": 20,
      "outputs": [
        {
          "output_type": "display_data",
          "data": {
            "image/png": "[encoded data removed]",
            "text/plain": [
              "<Figure size 432x288 with 1 Axes>"
            ]
          },
          "metadata": {
            "tags": []
          }
        }
      ]
    }
  ]
}